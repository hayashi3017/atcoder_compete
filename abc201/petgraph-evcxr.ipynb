{
 "cells": [
  {
   "cell_type": "code",
   "execution_count": 2,
   "metadata": {
    "vscode": {
     "languageId": "rust"
    }
   },
   "outputs": [],
   "source": [
    ":dep petgraph = \"*\"\n",
    ":dep petgraph-evcxr = \"*\""
   ]
  },
  {
   "cell_type": "code",
   "execution_count": 7,
   "metadata": {
    "vscode": {
     "languageId": "rust"
    }
   },
   "outputs": [],
   "source": [
    "extern crate petgraph;\n",
    "use petgraph::graph::Graph;\n",
    "use petgraph::dot::{Dot, Config};\n",
    "use petgraph_evcxr::{draw_graph, draw_graph_with_attr_getters, draw_dot};"
   ]
  },
  {
   "cell_type": "code",
   "execution_count": 8,
   "metadata": {
    "vscode": {
     "languageId": "rust"
    }
   },
   "outputs": [
    {
     "name": "stdout",
     "output_type": "stream",
     "text": [
      "digraph {\n",
      "    0 [ label = \"\\\"A\\\"\" ]\n",
      "    1 [ label = \"\\\"B\\\"\" ]\n",
      "    2 [ label = \"\\\"C\\\"\" ]\n",
      "    3 [ label = \"\\\"D\\\"\" ]\n",
      "    0 -> 1 [ ]\n",
      "    0 -> 2 [ ]\n",
      "    0 -> 3 [ ]\n",
      "    1 -> 2 [ ]\n",
      "    1 -> 3 [ ]\n",
      "    2 -> 3 [ ]\n",
      "}\n",
      "\n"
     ]
    }
   ],
   "source": [
    "let mut graph = Graph::<_, ()>::new();\n",
    "graph.add_node(\"A\");\n",
    "graph.add_node(\"B\");\n",
    "graph.add_node(\"C\");\n",
    "graph.add_node(\"D\");\n",
    "graph.extend_with_edges(&[\n",
    "    (0, 1), (0, 2), (0, 3),\n",
    "    (1, 2), (1, 3),\n",
    "    (2, 3),\n",
    "]);\n",
    "\n",
    "println!(\"{:?}\", Dot::with_config(&graph, &[Config::EdgeNoLabel]));"
   ]
  },
  {
   "cell_type": "code",
   "execution_count": 4,
   "metadata": {
    "vscode": {
     "languageId": "rust"
    }
   },
   "outputs": [
    {
     "name": "stderr",
     "output_type": "stream",
     "text": [
      "thread '<unnamed>' panicked at /home/hayashi3017/.cargo/registry/src/index.crates.io-6f17d22bba15001f/petgraph-evcxr-0.2.0/src/lib.rs:33:10:\n",
      "Error running graphviz dot is graphviz installed?: Os { code: 2, kind: NotFound, message: \"No such file or directory\" }\n",
      "stack backtrace:\n",
      "   0: rust_begin_unwind\n",
      "             at /rustc/07dca489ac2d933c78d3c5158e3f43beefeb02ce/library/std/src/panicking.rs:645:5\n",
      "   1: core::panicking::panic_fmt\n",
      "             at /rustc/07dca489ac2d933c78d3c5158e3f43beefeb02ce/library/core/src/panicking.rs:72:14\n",
      "   2: core::result::unwrap_failed\n",
      "             at /rustc/07dca489ac2d933c78d3c5158e3f43beefeb02ce/library/core/src/result.rs:1649:5\n",
      "   3: petgraph_evcxr::draw_graph\n",
      "   4: std::panicking::try\n",
      "   5: run_user_code_3\n",
      "   6: evcxr::runtime::Runtime::run_loop\n",
      "   7: evcxr::runtime::runtime_hook\n",
      "   8: evcxr_jupyter::main\n",
      "note: Some details are omitted, run with `RUST_BACKTRACE=full` for a verbose backtrace.\n"
     ]
    },
    {
     "data": {
      "image/png": ""
     },
     "execution_count": 4,
     "metadata": {},
     "output_type": "execute_result"
    }
   ],
   "source": [
    "let mut g : Graph<&str, &str> = Graph::new();\n",
    "let a = g.add_node(\"a\");\n",
    "let b = g.add_node(\"b\");\n",
    "g.add_edge(a, b, \"a to b\");\n",
    "draw_graph(&g);"
   ]
  }
 ],
 "metadata": {
  "kernelspec": {
   "display_name": "Rust",
   "language": "rust",
   "name": "rust"
  },
  "language_info": {
   "codemirror_mode": "rust",
   "file_extension": ".rs",
   "mimetype": "text/rust",
   "name": "Rust",
   "pygment_lexer": "rust",
   "version": ""
  }
 },
 "nbformat": 4,
 "nbformat_minor": 2
}
